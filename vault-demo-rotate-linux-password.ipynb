{
 "cells": [
  {
   "cell_type": "markdown",
   "metadata": {},
   "source": [
    "# HashiCorp Vault Demo for Rotating Linux user passwords\n",
    "This demo shows we can utilize a script to automate the process of rotating passwords for a defined list of linux servers.  All rotated passwords are stored securely in HashiCorp Vault KV v2 engine.  Each rotated password is stored as a different version.\n",
    "\n",
    "## Setup of the Demo\n",
    "\n",
    "This setup is tested on MacOS and is meant to simulate a distributed setup.  The components used in this demo are:\n",
    "- Vault Enterprise installed on docker (to simulate an external Vault)\n",
    "- You have the Vault CLI installed\n",
    "\n",
    "This assumes your Vault server is installed using docker and already running on http://127.0.0.1:8200\n",
    "and you have set your VAULT_ADDR and VAULT_TOKEN variables.\n",
    "\n",
    "Note: You will need Vault to be installed with an ADP Transform license add-on.\n",
    "\n",
    "## Requirements to Run This Demo\n",
    "You will need Visual Studio Code to be installed with the Jupyter plugin.  To run this notebook in VS Code, chose the Jupyter kernel and then Bash.\n",
    "- To run the current cell, use Ctrl + Enter.\n",
    "- To run the current cell and advance to the next, use Shift+Enter."
   ]
  },
  {
   "cell_type": "markdown",
   "metadata": {},
   "source": [
    "# Setup Pre-requisites (One-time)\n",
    "\n",
    "Assumes you have docker installed and brew installed\n",
    "\n",
    "- https://docs.docker.com/desktop/install/mac-install/\n",
    "- https://brew.sh/"
   ]
  },
  {
   "cell_type": "code",
   "execution_count": null,
   "metadata": {
    "vscode": {
     "languageId": "shellscript"
    }
   },
   "outputs": [],
   "source": [
    "# sshpass is used in the rotation script to login via ssh with password\n",
    "brew install sshpass"
   ]
  },
  {
   "cell_type": "code",
   "execution_count": null,
   "metadata": {
    "vscode": {
     "languageId": "shellscript"
    }
   },
   "outputs": [],
   "source": [
    "# jq is used in the script to parse one of the json output\n",
    "brew install jq"
   ]
  },
  {
   "cell_type": "markdown",
   "metadata": {},
   "source": [
    "# Setting up HashiCorp Vault"
   ]
  },
  {
   "cell_type": "code",
   "execution_count": null,
   "metadata": {
    "vscode": {
     "languageId": "shellscript"
    }
   },
   "outputs": [],
   "source": [
    "# Optional.  The following are some sample commands for running Vault Enterprise in docker.\n",
    "export VAULT_PORT=8200\n",
    "export VAULT_ADDR=\"http://127.0.0.1:${VAULT_PORT}\"\n",
    "export VAULT_TOKEN=\"root\"\n",
    "# Change the path to your license file\n",
    "export VAULT_LICENSE=$(cat $HOME/vault-enterprise/vault_local/data/vault.hclic)\n",
    "docker run -d --rm --name vault-enterprise --cap-add=IPC_LOCK \\\n",
    "-e \"VAULT_DEV_ROOT_TOKEN_ID=${VAULT_TOKEN}\" \\\n",
    "-e \"VAULT_DEV_LISTEN_ADDRESS=:${VAULT_PORT}\" \\\n",
    "-e \"VAULT_LICENSE=${VAULT_LICENSE}\" \\\n",
    "-p ${VAULT_PORT}:${VAULT_PORT} hashicorp/vault-enterprise:latest"
   ]
  },
  {
   "cell_type": "code",
   "execution_count": null,
   "metadata": {
    "vscode": {
     "languageId": "shellscript"
    }
   },
   "outputs": [],
   "source": [
    "# Testing with ubuntu image with sshd enabled\n",
    "# https://hub.docker.com/r/takeyamajp/ubuntu-sshd\n",
    "export INT_SSH_PORT=22\n",
    "export EXT_SSH_PORT=8222\n",
    "docker run -it -d --rm --name ubuntu \\\n",
    "-e ROOT_PASSWORD=root \\\n",
    "-p ${EXT_SSH_PORT}:${INT_SSH_PORT} takeyamajp/ubuntu-sshd:latest\n",
    "\n"
   ]
  },
  {
   "cell_type": "code",
   "execution_count": null,
   "metadata": {
    "vscode": {
     "languageId": "shellscript"
    }
   },
   "outputs": [],
   "source": [
    "# Verify that Vault and the Ubuntu containers are running\n",
    "docker ps"
   ]
  },
  {
   "cell_type": "code",
   "execution_count": null,
   "metadata": {
    "vscode": {
     "languageId": "shellscript"
    }
   },
   "outputs": [],
   "source": [
    "# Show that we are rotating the servers that we specified.  One is valid \"localhost\" and the other is not \"test\".\n",
    "cat hostlist.txt"
   ]
  },
  {
   "cell_type": "code",
   "execution_count": null,
   "metadata": {
    "vscode": {
     "languageId": "shellscript"
    }
   },
   "outputs": [],
   "source": [
    "# Rotate passwords\n",
    "./rotate.sh"
   ]
  },
  {
   "cell_type": "code",
   "execution_count": null,
   "metadata": {
    "vscode": {
     "languageId": "shellscript"
    }
   },
   "outputs": [],
   "source": [
    "# Check that the password has been rotated\n",
    "export SSHPASS=$(vault kv get -field=admin-password -mount=secret localhost)\n",
    "echo \"Rotated password for localhost: $SSHPASS\""
   ]
  },
  {
   "cell_type": "code",
   "execution_count": null,
   "metadata": {
    "vscode": {
     "languageId": "shellscript"
    }
   },
   "outputs": [],
   "source": [
    "# Verify that you get an error with an invalid password.  You should see a permission denied error.\n",
    "sshpass -p \"wrong_password\" ssh -o StrictHostKeyChecking=no -p $EXT_SSH_PORT root@localhost ls"
   ]
  },
  {
   "cell_type": "code",
   "execution_count": null,
   "metadata": {
    "vscode": {
     "languageId": "shellscript"
    }
   },
   "outputs": [],
   "source": [
    "# Verify that I can SSH and run a command using the new password\n",
    "# Sould have no errors\n",
    "sshpass -e ssh -o StrictHostKeyChecking=no -p $EXT_SSH_PORT root@localhost ls"
   ]
  },
  {
   "cell_type": "markdown",
   "metadata": {},
   "source": [
    "# Cleanup"
   ]
  },
  {
   "cell_type": "code",
   "execution_count": null,
   "metadata": {
    "vscode": {
     "languageId": "shellscript"
    }
   },
   "outputs": [],
   "source": [
    "# Cleanup\n",
    "# stop Ubuntu container\n",
    "docker stop ubuntu\n",
    "\n",
    "# Stop Vault container\n",
    "docker stop vault-enterprise"
   ]
  },
  {
   "cell_type": "markdown",
   "metadata": {},
   "source": [
    "# Other Useful Commands and Examples"
   ]
  },
  {
   "cell_type": "code",
   "execution_count": null,
   "metadata": {
    "vscode": {
     "languageId": "shellscript"
    }
   },
   "outputs": [],
   "source": [
    "# Generate a string of random bytes\n",
    "# https://developer.hashicorp.com/vault/api-docs/system/tools#generate-random-bytes\n",
    "# e.g. AES 256 is 256 bits or 32 bytes\n",
    "# Format can be base64 or hex\n",
    "vault write sys/tools/random/32 format=base64\n",
    "echo\n",
    "vault write sys/tools/random/32 format=hex\n",
    "echo \n",
    "vault write -field=random_bytes sys/tools/random/32 format=base64\n",
    "echo\n",
    "vault write -field=random_bytes sys/tools/random/32 format=hex"
   ]
  },
  {
   "cell_type": "code",
   "execution_count": null,
   "metadata": {
    "vscode": {
     "languageId": "shellscript"
    }
   },
   "outputs": [],
   "source": [
    "# Example of generating a random 256-bit key (32 bytes) and storing it as a static secret in the KV engine\n",
    "# Variable for my secret path\n",
    "MOUNTPATH=secret\n",
    "KEYNAME=demo-app-key-1\n",
    "VALUENAME=value\n",
    "# Generates a 256-bit key in base64 and stores it in the secret path with the name \"value\"\n",
    "vault kv put $MOUNTPATH/$KEYNAME $VALUENAME=\"$(vault write -field=random_bytes sys/tools/random/32 format=base64)\"\n",
    "echo\n",
    "# Application can read back key value with the proper permission policy.\n",
    "vault kv get -mount=$MOUNTPATH -field $VALUENAME $KEYNAME"
   ]
  },
  {
   "cell_type": "code",
   "execution_count": null,
   "metadata": {
    "vscode": {
     "languageId": "shellscript"
    }
   },
   "outputs": [],
   "source": [
    "# Demo of -output-policy flag\n",
    "vault write -output-policy sys/tools/random/32 format=base64"
   ]
  },
  {
   "cell_type": "code",
   "execution_count": null,
   "metadata": {
    "vscode": {
     "languageId": "shellscript"
    }
   },
   "outputs": [],
   "source": [
    "# View all local users\n",
    "docker exec -it ubuntu cut -d: -f1 /etc/passwd"
   ]
  }
 ],
 "metadata": {
  "kernelspec": {
   "display_name": "Bash",
   "language": "bash",
   "name": "bash"
  },
  "language_info": {
   "codemirror_mode": "shell",
   "file_extension": ".sh",
   "mimetype": "text/x-sh",
   "name": "bash"
  },
  "orig_nbformat": 4
 },
 "nbformat": 4,
 "nbformat_minor": 2
}
